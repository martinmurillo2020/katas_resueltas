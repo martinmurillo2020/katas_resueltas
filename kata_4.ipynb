{
 "cells": [
  {
   "cell_type": "markdown",
   "metadata": {},
   "source": [
    "# Ejercicio 1: Transformar cadenas\n",
    "Hay varias operaciones que puedes realizar en las cadenas cuando las manipulamos. \n",
    "En este ejercicio, usarás métodos de cadena para modificar el texto con hechos sobre la Luna y luego extraerás información para crear un breve resumen.\n",
    "#### **Texto**\n",
    "*Datos interesantes sobre la Luna. La Luna es el único satélite de la Tierra. Hay varios datos interesantes sobre la Luna y cómo afecta la vida aquí en la Tierra. En promedio, la Luna se aleja 4 cm de la Tierra cada año. Esta deriva anual no es lo suficientemente significativa como para causar efectos inmediatos en la Tierra. La temperatura diurna más alta de la Luna es de 127 C.*\n",
    "\n",
    "* El original es en Ingles."
   ]
  },
  {
   "cell_type": "code",
   "execution_count": 1,
   "metadata": {},
   "outputs": [
    {
     "name": "stdout",
     "output_type": "stream",
     "text": [
      "En promedio, la Luna se aleja 4 cm de la Tierra cada año\n",
      "Esta distancia anual no es lo suficientemente significativa como para causar efectos inmediatos en la Tierra\n",
      "La temperatura diurna más alta de la Luna es de 127 C.\n",
      "En promedio, la Luna se aleja 4 cm de la Tierra cada año\n",
      "Esta distancia anual no es lo suficientemente significativa como para causar efectos inmediatos en la Tierra\n",
      "La temperatura diurna más alta de la Luna es de 127 celsius.\n"
     ]
    }
   ],
   "source": [
    "texto = (\"\"\"Datos interesantes sobre la Luna. La Luna es el único satélite de la Tierra. Hay varios datos interesantes sobre la Luna y cómo afecta la vida aquí en la Tierra. En promedio, la Luna se aleja 4 cm de la Tierra cada año. Esta distancia anual no es lo suficientemente significativa como para causar efectos inmediatos en la Tierra. La temperatura diurna más alta de la Luna es de 127 C.\"\"\")\n",
    "texto_dividido = texto.split(\". \")\n",
    "\n",
    "palabras_claves = [\"promedio\", \"temperatura\", \"distancia\"]\n",
    "\n",
    "for texto_bucleado in texto_dividido:\n",
    "    for claves_bucleadas in palabras_claves:\n",
    "        if claves_bucleadas in texto_bucleado:\n",
    "            print (texto_bucleado)\n",
    "            break\n",
    "        \n",
    "\n",
    "for texto_bucleado in texto_dividido:\n",
    "    for claves_bucleadas in palabras_claves:\n",
    "        if claves_bucleadas in texto_bucleado:\n",
    "            print (texto_bucleado.replace(\"C\", \"celsius\"))\n",
    "            break\n",
    "\n",
    "\n"
   ]
  },
  {
   "cell_type": "markdown",
   "metadata": {},
   "source": [
    "----------------------------------------------------------------------"
   ]
  },
  {
   "cell_type": "markdown",
   "metadata": {},
   "source": [
    "# Ejercicio 2: Formateando Cadenas\n",
    "Saber cómo dar formato a las cadenas es esencial cuando se presenta información de un programa. Hay algunas maneras diferentes de lograr esto en Python. \n",
    "En este ejercicio, se utilizan variables que contienen datos clave sobre la gravedad en varias lunas y luego se utilizan para dar formato e imprimir la información.\n",
    "\n",
    "**El formato tiene que acomodar información sobre otras lunas, por lo que debe ser genérico.**\n",
    "\n",
    "**En lugar de reemplazar las variables en una cadena larga como parte de un párrafo, utiliza la información para presentarla en un formato tabular. El resultado debería verse así:**\n",
    "\n",
    "### *Gravity Facts about Ganymede*\n",
    "\n",
    "### *Planet Name: Mars*\n",
    "### *Gravity on Ganymede: 1.4300000000000002 m/s2*"
   ]
  },
  {
   "cell_type": "code",
   "execution_count": 2,
   "metadata": {},
   "outputs": [
    {
     "name": "stdout",
     "output_type": "stream",
     "text": [
      "Datos De Gravedad Sobre Luna\n",
      "-------------------------------------------------------------------------------- \n",
      "Nombre del planeta: Tierra \n",
      "Gravedad en la Luna: 1.6199999999999999 m/s2 \n",
      "\n"
     ]
    }
   ],
   "source": [
    "planeta = \"Tierra\"\n",
    "satelite = \"Luna\"\n",
    "gravedad = 0.00162\n",
    "\n",
    "title = f\"datos de gravedad sobre {satelite}\"\n",
    "\n",
    "hechos = f\"\"\"{'-'*80} \n",
    "Nombre del planeta: {planeta} \n",
    "Gravedad en la {satelite}: {gravedad * 1000} m/s2 \n",
    "\"\"\"\n",
    "\n",
    "templates = f\"\"\"{title.title()}\n",
    "{hechos}\"\"\"\n",
    "\n",
    "print (templates)"
   ]
  },
  {
   "cell_type": "markdown",
   "metadata": {},
   "source": [
    "### Nuevos datos de muestra:"
   ]
  },
  {
   "cell_type": "code",
   "execution_count": 3,
   "metadata": {},
   "outputs": [
    {
     "name": "stdout",
     "output_type": "stream",
     "text": [
      "Datos De Gravedad Sobre Ganímedes\n",
      "-------------------------------------------------------------------------------- \n",
      "Nombre del planeta: Marte \n",
      "Gravedad en la Ganímedes: 1.4300000000000002 m/s2 \n",
      "\n"
     ]
    }
   ],
   "source": [
    "planeta = \"Marte\"\n",
    "satelite = \"Ganímedes\"\n",
    "gravedad  = 0.00143\n",
    "\n",
    "title = f\"datos de gravedad sobre {satelite}\"\n",
    "\n",
    "hechos = f\"\"\"{'-'*80} \n",
    "Nombre del planeta: {planeta} \n",
    "Gravedad en la {satelite}: {gravedad * 1000} m/s2 \n",
    "\"\"\"\n",
    "\n",
    "templates = f\"\"\"{title.title()}\n",
    "{hechos}\"\"\"\n",
    "\n",
    "print (templates)"
   ]
  },
  {
   "cell_type": "markdown",
   "metadata": {},
   "source": [
    "-----------------------------"
   ]
  },
  {
   "cell_type": "markdown",
   "metadata": {},
   "source": [
    "### Me di cuenta que si el codigo lo escribo en bloques separados, no utilizo \".format\". Con el fin de entender su función, en el siguiente bloque, lo hago todo junto."
   ]
  },
  {
   "cell_type": "code",
   "execution_count": 8,
   "metadata": {},
   "outputs": [
    {
     "name": "stdout",
     "output_type": "stream",
     "text": [
      "Datos De Gravedad Sobre Ganímedes\n",
      "-------------------------------------------------------------------------------- \n",
      "Nombre del planeta: Marte \n",
      "Gravedad en la Ganímedes: 1.4300000000000002 m/s2 \n",
      "\n"
     ]
    }
   ],
   "source": [
    "planeta = \"Tierra\"\n",
    "satelite = \"Luna\"\n",
    "gravedad = 0.00162\n",
    "\n",
    "title = f\"datos de gravedad sobre {satelite}\"\n",
    "\n",
    "hechos = f\"\"\"{'-'*80} \n",
    "Nombre del planeta: {planeta} \n",
    "Gravedad en la {satelite}: {gravedad * 1000} m/s2 \n",
    "\"\"\"\n",
    "\n",
    "templates = f\"\"\"{title.title()}\n",
    "{hechos}\"\"\"\n",
    "\n",
    "# -------------------------------------\n",
    "\n",
    "planeta = \"Marte\"\n",
    "satelite = \"Ganímedes\"\n",
    "gravedad  = 0.00143\n",
    "\n",
    "title = f\"datos de gravedad sobre {satelite}\"\n",
    "\n",
    "hechos = f\"\"\"{'-'*80} \n",
    "Nombre del planeta: {planeta} \n",
    "Gravedad en la {satelite}: {gravedad * 1000} m/s2 \n",
    "\"\"\"\n",
    "\n",
    "new_templates = f\"\"\"{title.title()}\n",
    "{hechos}\"\"\"\n",
    "\n",
    "print(new_templates.format(satelite=satelite, planeta=planeta, gravedad=gravedad*1000))"
   ]
  },
  {
   "cell_type": "markdown",
   "metadata": {},
   "source": [
    "#### Cabe destacar que el paso a paso de los ejercicios fue realizado pero a medida que fui entendiendo, los fui uniendo mostrando como resultado final lo que está."
   ]
  }
 ],
 "metadata": {
  "interpreter": {
   "hash": "67f53f2d05cd397b8894baf6091bfa4e924cce47a03a3897a0810c1ed3b377d0"
  },
  "kernelspec": {
   "display_name": "Python 3.10.2 64-bit",
   "language": "python",
   "name": "python3"
  },
  "language_info": {
   "codemirror_mode": {
    "name": "ipython",
    "version": 3
   },
   "file_extension": ".py",
   "mimetype": "text/x-python",
   "name": "python",
   "nbconvert_exporter": "python",
   "pygments_lexer": "ipython3",
   "version": "3.10.2"
  },
  "orig_nbformat": 4
 },
 "nbformat": 4,
 "nbformat_minor": 2
}
