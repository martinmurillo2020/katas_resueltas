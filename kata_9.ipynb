{
 "cells": [
  {
   "cell_type": "markdown",
   "metadata": {},
   "source": [
    "# Ejercicio: Uso de funciones en Python\n"
   ]
  },
  {
   "cell_type": "markdown",
   "metadata": {},
   "source": [
    "#### En este primer ejercicio traté de aplicar los conocimientos adquiridos hasta esta kata sin usar funciones aun. Es a modo de ponerme a prueba a mi mismo. En el segundo bloque lo hago como pide la kata.\n",
    "\n",
    "Quería que los indicadores sean tanto idividuales como generales y que existan dos avisos; uno de atencion y otro de alerta-"
   ]
  },
  {
   "cell_type": "code",
   "execution_count": 1,
   "metadata": {},
   "outputs": [
    {
     "name": "stdout",
     "output_type": "stream",
     "text": [
      "Fuel Report:\n",
      "    Total Average: 100.0 %\n",
      "    Main tank: 100%\n",
      "    External tank: 100%\n",
      "    Hydrogen tank: 100%\n"
     ]
    }
   ],
   "source": [
    "\n",
    "\n",
    "main_tank = 100\n",
    "external_tank = 100\n",
    "hydrogen_tank = 100\n",
    "total_average = (main_tank + external_tank + hydrogen_tank) / 3\n",
    "\n",
    "\n",
    "generate_report = f\"\"\"Fuel Report:\n",
    "    Total Average: {total_average} %\n",
    "    Main tank: {main_tank}%\n",
    "    External tank: {external_tank}%\n",
    "    Hydrogen tank: {hydrogen_tank}%\"\"\"\n",
    "\n",
    "if total_average <= 30:\n",
    "    print (\"\"\" >>>>¡¡GENERAL ALERT!!<<<< [[critical fuel situation overall]] The average of all fuel tanks is --> \"\"\", total_average, \"%\")\n",
    "if main_tank >= 6 and main_tank <= 10:\n",
    "    print (\"\"\"[ATENTION]  LOW FUEL in MAIN TANK--->\"\"\", main_tank, \"%\")\n",
    "elif main_tank <= 5:\n",
    "    print (\"\"\">>>> MAXIMUM ALERT <<<<  CRITICAL SITUATION IN MAIN TANK:\"\"\", main_tank, \"%\")\n",
    "\n",
    "if external_tank >= 6 and external_tank <= 10:\n",
    "    print (\"\"\"[ATENTION]  LOW FUEL in EXTERNAL TANK--->\"\"\", external_tank, \"%\")\n",
    "elif external_tank <= 5:\n",
    "    print (\"\"\">>>> MAXIMUM ALERT <<<<  CRITICAL SITUATION IN MAIN TANK:\"\"\", external_tank, \"%\")\n",
    "\n",
    "if hydrogen_tank >= 6 and hydrogen_tank <= 10:\n",
    "    print (\"\"\"[ATENTION]  LOW FUEL in HYDROGEN TANK--->\"\"\", hydrogen_tank, \"%\")\n",
    "elif hydrogen_tank <= 5:\n",
    "    print (\"\"\">>>> MAXIMUM ALERT <<<<  CRITICAL SITUATION IN MAIN TANK:\"\"\", hydrogen_tank, \"%\")\n",
    "\n",
    "print (generate_report)"
   ]
  },
  {
   "cell_type": "markdown",
   "metadata": {},
   "source": [
    "---"
   ]
  },
  {
   "cell_type": "markdown",
   "metadata": {},
   "source": [
    "**Ejercicio 1: Trabajar con argumentos en funciones**\n",
    "\n",
    "*Los argumentos requeridos en las funciones se utilizan cuando las funciones necesitan que esos argumentos funcionen correctamente. En este ejercicio, construirás un informe de combustible que requiere información de varias ubicaciones de combustible en todo el cohete.*"
   ]
  },
  {
   "cell_type": "code",
   "execution_count": 2,
   "metadata": {},
   "outputs": [
    {
     "name": "stdout",
     "output_type": "stream",
     "text": [
      "Fuel Report:\n",
      "    Total Average: 40.0%\n",
      "    Main tank: 45%\n",
      "    External tank: 38%\n",
      "    Hydrogen tank: 37% \n",
      "    \n"
     ]
    }
   ],
   "source": [
    "def average(values):\n",
    "    total = sum(values)\n",
    "    number_of_items = len(values)\n",
    "    return total / number_of_items\n",
    "\n",
    "\n",
    "average([50, 50, 50]) \n",
    "\n",
    "def generate_report(main_tank, external_tank, hydrogen_tank):\n",
    "    return f\"\"\"Fuel Report:\n",
    "    Total Average: {average([main_tank, external_tank, hydrogen_tank])}%\n",
    "    Main tank: {main_tank}%\n",
    "    External tank: {external_tank}%\n",
    "    Hydrogen tank: {hydrogen_tank}% \n",
    "    \"\"\"\n",
    "\n",
    "print(generate_report(45, 38, 37))\n",
    "\n"
   ]
  },
  {
   "cell_type": "markdown",
   "metadata": {},
   "source": [
    "---"
   ]
  },
  {
   "cell_type": "markdown",
   "metadata": {},
   "source": [
    "# Ejercicio 2: Trabajo con argumentos de palabra clave\n",
    "\n",
    "**Ejercicio : Trabajar con argumentos de palabras clave en funciones**\n",
    "\n",
    "*En este ejercicio, construirás un informe de cohete que requiere varias piezas de información, como el tiempo hasta el destino, el combustible a la izquierda y el nombre del destino. Comienza por crear una función que creará un informe preciso de la misión:*"
   ]
  },
  {
   "cell_type": "code",
   "execution_count": 4,
   "metadata": {},
   "outputs": [
    {
     "name": "stdout",
     "output_type": "stream",
     "text": [
      "\n",
      "    Mission to Moon\n",
      "    Total travel time: 65 minutes\n",
      "    Total fuel left: 500000 gallons\n",
      "    \n"
     ]
    }
   ],
   "source": [
    "def mission_report(pre_launch_time, flight_time, destination, external_tank, main_tank):\n",
    "    return f\"\"\"\n",
    "    Mission to {destination}\n",
    "    Total travel time: {pre_launch_time + flight_time} minutes\n",
    "    Total fuel left: {external_tank + main_tank} gallons\n",
    "    \"\"\"\n",
    "\n",
    "print (mission_report(14, 51, \"Moon\", 200000, 300000))\n",
    "\n"
   ]
  },
  {
   "cell_type": "code",
   "execution_count": 5,
   "metadata": {},
   "outputs": [
    {
     "name": "stdout",
     "output_type": "stream",
     "text": [
      "\n",
      "    Mission to Moon\n",
      "    Total travel time: 76 minutes\n",
      "    Total fuel left: 500000\n",
      "    \n"
     ]
    }
   ],
   "source": [
    "def mission_report(destination, *minutes, **fuel_reservoirs):\n",
    "    return f\"\"\"\n",
    "    Mission to {destination}\n",
    "    Total travel time: {sum(minutes)} minutes\n",
    "    Total fuel left: {sum(fuel_reservoirs.values())}\n",
    "    \"\"\"\n",
    "\n",
    "print(mission_report(\"Moon\", 10, 15, 51, main=300000, external=200000))\n",
    "# Escribe tu nueva función\n"
   ]
  },
  {
   "cell_type": "code",
   "execution_count": 6,
   "metadata": {},
   "outputs": [
    {
     "name": "stdout",
     "output_type": "stream",
     "text": [
      "\n",
      "    Mission to Moon\n",
      "    Total travel time: 74 minutes\n",
      "    Total fuel left: 500000\n",
      "    main tank --> 300000 gallons left\n",
      "external tank --> 200000 gallons left\n",
      "\n"
     ]
    }
   ],
   "source": [
    "def mission_report(destination, *minutes, **fuel_reservoirs):\n",
    "    main_report = f\"\"\"\n",
    "    Mission to {destination}\n",
    "    Total travel time: {sum(minutes)} minutes\n",
    "    Total fuel left: {sum(fuel_reservoirs.values())}\n",
    "    \"\"\"\n",
    "    for tank_name, gallons in fuel_reservoirs.items():\n",
    "        main_report += f\"{tank_name} tank --> {gallons} gallons left\\n\"\n",
    "    return main_report\n",
    "\n",
    "print(mission_report(\"Moon\", 8, 11, 55, main=300000, external=200000))"
   ]
  }
 ],
 "metadata": {
  "interpreter": {
   "hash": "67f53f2d05cd397b8894baf6091bfa4e924cce47a03a3897a0810c1ed3b377d0"
  },
  "kernelspec": {
   "display_name": "Python 3.10.2 64-bit",
   "language": "python",
   "name": "python3"
  },
  "language_info": {
   "codemirror_mode": {
    "name": "ipython",
    "version": 3
   },
   "file_extension": ".py",
   "mimetype": "text/x-python",
   "name": "python",
   "nbconvert_exporter": "python",
   "pygments_lexer": "ipython3",
   "version": "3.10.2"
  },
  "orig_nbformat": 4
 },
 "nbformat": 4,
 "nbformat_minor": 2
}
