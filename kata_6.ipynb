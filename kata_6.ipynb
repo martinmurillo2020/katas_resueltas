{
 "cells": [
  {
   "cell_type": "markdown",
   "metadata": {},
   "source": [
    "# Ejercicio1: Crear y usar listas de Python\n",
    "\n",
    "**Ejercicio:** \n",
    "\n",
    "### Usar listas para almacenar nombres de planetas\n",
    "\n",
    "*Las listas permiten almacenar varios valores en una sola variable. Comenzarás un proyecto sobre información planetaria creando una lista de planetas.*"
   ]
  },
  {
   "cell_type": "code",
   "execution_count": 16,
   "metadata": {},
   "outputs": [
    {
     "name": "stdout",
     "output_type": "stream",
     "text": [
      "En el sistema solar que vivimos existen 9 planetas documentados. Sus nombres y orden contando desde el Sol son: ['Mercurio', 'Venus', 'Tierra', 'Marte', 'Jupiter', 'Saturno', 'Urano', 'Neptuno', 'Pluton'] , aunque recientemente se decidió dejar de considerar a uno de ellos como planeta.\n",
      "Este planeta entra ahora en la categoría de \"Planeta Enano\". El nombre de este nuevo integrante en dicha categoría es Pluton\n"
     ]
    }
   ],
   "source": [
    "planetas = [\"Mercurio\", \"Venus\", \"Tierra\", \"Marte\", \"Jupiter\", \"Saturno\", \"Urano\", \"Neptuno\"]\n",
    "\n",
    "planetas.append(\"Pluton\")\n",
    "numero_de_planetas = len (planetas)\n",
    "\n",
    "print (\"En el sistema solar que vivimos existen\", numero_de_planetas,\"planetas documentados. Sus nombres y orden contando desde el Sol son:\", planetas,\", aunque recientemente se decidió dejar de considerar a uno de ellos como planeta.\")\n",
    "\n",
    "print (\"\"\"Este planeta entra ahora en la categoría de \"Planeta Enano\". El nombre de este nuevo integrante en dicha categoría es\"\"\", planetas[-1])"
   ]
  },
  {
   "cell_type": "markdown",
   "metadata": {},
   "source": [
    "---\n"
   ]
  },
  {
   "cell_type": "markdown",
   "metadata": {},
   "source": [
    "# Ejercicio 2: Trabajando con datos de una lista\n",
    "\n",
    "**Usar slices para recuperar partes de una lista**\n",
    "\n",
    "Es posible que debas trabajar con diferentes secciones de una lista. En nuestro ejemplo, queremos mostrar planetas más cerca y más lejos del sol de un planeta que el usuario ingresa por teclado."
   ]
  },
  {
   "cell_type": "code",
   "execution_count": 35,
   "metadata": {},
   "outputs": [
    {
     "name": "stdout",
     "output_type": "stream",
     "text": [
      "Usted eligió el planeta Tierra --- Los planetas mas cercanos al sol que > Tierra < son: ['Mercurio', 'Venus']\n",
      "Por el otro lado, estos son los planetas que estan despues de su eleccion:  ['Marte', 'Jupiter', 'Saturno', 'Urano', 'Neptuno'] es decir, hacia el lado opuesto de el Sol\n"
     ]
    }
   ],
   "source": [
    "planets = [\"Mercurio\", \"Venus\", \"Tierra\", \"Marte\", \"Jupiter\", \"Saturno\", \"Urano\", \"Neptuno\"]\n",
    "\n",
    "usuario = input (\"Por Favor, indique el nombre del planeta. (Asegúrese de escribir con mayuscula la primer letra)\")\n",
    "\n",
    "planets_index = planets.index(usuario)\n",
    "\n",
    "print (\"Usted eligió el planeta\", usuario, \"--- Los planetas mas cercanos al sol que >\", usuario, \"< son:\",  planets[0:planets_index])\n",
    "print (\"Por el otro lado, estos son los planetas que están después de su elección: \", planets[planets_index +1:], \"es decir, hacia el lado opuesto de el Sol.\")\n",
    "\n"
   ]
  }
 ],
 "metadata": {
  "interpreter": {
   "hash": "67f53f2d05cd397b8894baf6091bfa4e924cce47a03a3897a0810c1ed3b377d0"
  },
  "kernelspec": {
   "display_name": "Python 3.10.2 64-bit",
   "language": "python",
   "name": "python3"
  },
  "language_info": {
   "codemirror_mode": {
    "name": "ipython",
    "version": 3
   },
   "file_extension": ".py",
   "mimetype": "text/x-python",
   "name": "python",
   "nbconvert_exporter": "python",
   "pygments_lexer": "ipython3",
   "version": "3.10.2"
  },
  "orig_nbformat": 4
 },
 "nbformat": 4,
 "nbformat_minor": 2
}
