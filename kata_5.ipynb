{
 "cells": [
  {
   "cell_type": "markdown",
   "metadata": {},
   "source": [
    "# Ejercicio1 - Utilizar operadores aritméticos\n",
    "\n",
    "**Operadores aritméticos en Python**\n",
    "\n",
    "Python proporciona operadores aritméticos comunes para que puedas realizar operaciones matemáticas en tu código. Estos incluyen las cuatro operaciones principales de suma, resta, multiplicación y división.\n",
    "\n",
    "### *Exploremos cómo podemos crear un programa que pueda calcular la distancia entre dos planetas. Comenzaremos usando dos distancias de planetas: Tierra (149.597.870 km) y Júpiter (778.547.200 km).*\n",
    "\n",
    "(Entiendo que la distancia está explicada como una linea continua tomando como \"km 0\" la superficie del sol)"
   ]
  },
  {
   "cell_type": "code",
   "execution_count": 1,
   "metadata": {},
   "outputs": [
    {
     "name": "stdout",
     "output_type": "stream",
     "text": [
      "La distancia entre el planeta Tierra y Jupiter es: 628949330 KM\n",
      "La distancia entre el planeta Tierra y Jupiter es: 390577534 MI\n"
     ]
    }
   ],
   "source": [
    "planeta_1_tierra = 149597870\n",
    "planeta_2_jupiter = 778547200\n",
    "\n",
    "distancia_en_km = planeta_2_jupiter - planeta_1_tierra\n",
    "print (\"La distancia entre el planeta Tierra y Jupiter es:\", distancia_en_km, \"KM\")\n",
    "\n",
    "distancia_en_millas = round (distancia_en_km * 0.621)\n",
    "print (\"La distancia entre el planeta Tierra y Jupiter es:\", distancia_en_millas, \"MI\")"
   ]
  },
  {
   "cell_type": "markdown",
   "metadata": {},
   "source": [
    "---"
   ]
  },
  {
   "cell_type": "markdown",
   "metadata": {},
   "source": [
    "# Ejercicio 2: convierte cadenas en números y usa valores absolutos\n",
    "\n",
    "**Crear una aplicación para trabajar con números y entrada de usuario**\n",
    "\n",
    "Con frecuencia, deberás convertir los valores de cadena en números para realizar correctamente diferentes operaciones o determinar el valor absoluto de un número.\n",
    "\n",
    "### *Para crear nuestra aplicación, queremos leer la distancia del sol para dos planetas, y luego mostrar la distancia entre los planetas. Haremos esto usando **input** para leer los valores, **int** para convertir a entero y luego **abs** para convertir el resultado en su valor absoluto.*"
   ]
  },
  {
   "cell_type": "markdown",
   "metadata": {},
   "source": [
    "\n",
    "### Distancias al SOL:\n",
    "Mercurio  57900000------Tierra  149600000------Júpiter  778600000------Urano    2872500000\n",
    "\n",
    "Venus\t  108200000-----Marte\t227900000------Saturno\t1433500000-----Neptuno  4495100000\n",
    "\n",
    "\n",
    "\n",
    "\n",
    "\n"
   ]
  },
  {
   "cell_type": "code",
   "execution_count": 2,
   "metadata": {},
   "outputs": [
    {
     "name": "stdout",
     "output_type": "stream",
     "text": [
      "La distancia entre los planetas seleccionados es de: 78300000 KM\n",
      "La distancia entre los planetas seleccionados es de: 48624300 MI\n"
     ]
    }
   ],
   "source": [
    "planeta_1 = input (\"Introducir la distancia entre el Sol y el planeta 1\")        \n",
    "planeta_2 = input (\"Introducir la distancia entre el Sol y el planeta 2\")\n",
    "\n",
    "mensaje_1 = (\"La distancia entre los planetas seleccionados es de:\")\n",
    "\n",
    "planeta_1 = int (planeta_1)\n",
    "planeta_2 = int (planeta_2)\n",
    "\n",
    "distancia_km = planeta_2 - planeta_1\n",
    "distancia_km = abs (distancia_km)\n",
    "distancia_mi = round (distancia_km * 0.621)\n",
    "distancia_mi = abs (distancia_mi)\n",
    "\n",
    "\n",
    "print (mensaje_1, distancia_km, \"KM\")\n",
    "print (mensaje_1, distancia_mi, \"MI\")"
   ]
  },
  {
   "cell_type": "markdown",
   "metadata": {},
   "source": [
    "## Ejemplo basado en TIERRA Y MARTE"
   ]
  },
  {
   "cell_type": "markdown",
   "metadata": {},
   "source": [
    "Entiendo que hay mas formas de hacerlo con menos codigo, pero la verdad es que no pude encontrar la forma de usa **abs** dentro de **print** + texto.\n"
   ]
  }
 ],
 "metadata": {
  "interpreter": {
   "hash": "67f53f2d05cd397b8894baf6091bfa4e924cce47a03a3897a0810c1ed3b377d0"
  },
  "kernelspec": {
   "display_name": "Python 3.10.2 64-bit",
   "language": "python",
   "name": "python3"
  },
  "language_info": {
   "codemirror_mode": {
    "name": "ipython",
    "version": 3
   },
   "file_extension": ".py",
   "mimetype": "text/x-python",
   "name": "python",
   "nbconvert_exporter": "python",
   "pygments_lexer": "ipython3",
   "version": "3.10.2"
  },
  "orig_nbformat": 4
 },
 "nbformat": 4,
 "nbformat_minor": 2
}
